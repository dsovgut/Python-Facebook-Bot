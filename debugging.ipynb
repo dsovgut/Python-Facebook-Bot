{
 "cells": [
  {
   "cell_type": "markdown",
   "metadata": {},
   "source": [
    "## `lab09`—Debugging"
   ]
  },
  {
   "cell_type": "markdown",
   "metadata": {},
   "source": [
    "![](./img/lab10-header-bkgd.png)"
   ]
  },
  {
   "cell_type": "markdown",
   "metadata": {},
   "source": [
    "Objectives\n",
    "\n",
    "-   Learn how to debug code using a standard process of investigation.\n",
    "-   Assess peer code to identify strengths and weaknesses.\n",
    "\n",
    "This activity-based lab will challenge you to apply a flowchart process to debug codes so that they perform as intended.  The lab is divided into two segments:  Debugging and Peer Assessment.\n",
    "\n",
    "Because portions of this lab are individual, you should record your work and submit your own notebook for the lab grade."
   ]
  },
  {
   "cell_type": "markdown",
   "metadata": {},
   "source": [
    "### Debugging Activity (25 minutes)"
   ]
  },
  {
   "cell_type": "markdown",
   "metadata": {},
   "source": [
    "The first part of the lab, Debugging, will ask you to examine a code with a stated objective.  Unfortunately, this code was sloppily written and several bugs were introduced during its composition.  Your goal is to identify and correct all of those bugs.  You will have 15 minutes (timed) to work on identifying and fixing bugs alone, and then 5 minutes with a team of three students to finish it up.  The TA then has 5 minutes to clear up any questions that arose.\n",
    "\n",
    "---\n",
    "\n",
    "Wait for your TA to tell you to start and then work on debugging the following code."
   ]
  },
  {
   "cell_type": "code",
   "execution_count": 24,
   "metadata": {},
   "outputs": [
    {
     "name": "stdout",
     "output_type": "stream",
     "text": [
      "a=0\n",
      "The number should be nonnegative.\n"
     ]
    }
   ],
   "source": [
    "# This code should accept a positive nonzero integer from the user.\n",
    "# It should then calculate all integral factors of that number.\n",
    "\n",
    "# The following code contains NOT LESS THAN FIVE bugs.\n",
    "# It should pass the following test cases:\n",
    "#   100 -> 100, 50, 25, 20, 10, 5, 4, 2, 1\n",
    "#   69 -> 69, 23, 3, 1\n",
    "#   14.5 -> should be rejected (not raise exception)\n",
    "#   a -> should be rejected (not raise exception)\n",
    "#   0 -> should be rejected (not raise exception)\n",
    "\n",
    "#########################################################\n",
    "def is_divisible( a, b ):\n",
    "    \"\"\"\n",
    "    Determine if integer a is divisible by integer b.\n",
    "    \"\"\"\n",
    "\n",
    "    remainder = a % b\n",
    "\n",
    "    # if remainder is zero, then a is divisible by b\n",
    "    if remainder == 0:\n",
    "        return \"true\"\n",
    "\n",
    "\n",
    "#########################################################\n",
    "def find_divisors( integer ):\n",
    "    \"\"\"\n",
    "    Find all divisors of an integer and return them as a list.\n",
    "    \"\"\"\n",
    "\n",
    "    divisors = []\n",
    "    # we know that an integer divides itself\n",
    "    divisors.append(integer)\n",
    "\n",
    "    # we also know that the biggest divisor other than the integer\n",
    "    # itself must be at most half the value of the integer\n",
    "    divisor = int(integer / 2)\n",
    "\n",
    "    while divisor > 0:\n",
    "        if is_divisible(integer, divisor)== 'true':\n",
    "            divisors.append(divisor)\n",
    "        divisor -= 1\n",
    "\n",
    "    return divisors\n",
    "\n",
    "\n",
    "#########################################################\n",
    "def main():\n",
    "    input_a = input('a=')\n",
    "\n",
    "    # do some checking of the user's input\n",
    "    # is it a number?\n",
    "    if input_a.isdigit():\n",
    "        a = int(input_a)\n",
    "    else:\n",
    "        print( 'Please enter an integer.' )\n",
    "        return\n",
    "        \n",
    "\n",
    "    # is it nonnegative?\n",
    "    if a <= 0:\n",
    "        print( 'The number should be nonnegative.' )\n",
    "        return\n",
    "\n",
    "    divisors = find_divisors( a )\n",
    "\n",
    "    # print the results\n",
    "    print( \"The divisors of %d are:\" % a )\n",
    "    for divisor in divisors:\n",
    "        print ( divisor )\n",
    "\n",
    "    \n",
    "\n",
    "#########################################################\n",
    "# This is the main entry point of the program.\n",
    "if __name__ == '__main__':\n",
    "    main()"
   ]
  },
  {
   "cell_type": "code",
   "execution_count": null,
   "metadata": {},
   "outputs": [],
   "source": []
  },
  {
   "cell_type": "code",
   "execution_count": null,
   "metadata": {},
   "outputs": [],
   "source": [
    "# test the code here if necessary\n",
    "\n",
    "\n",
    "# It should pass the following test cases:\n",
    "#   100 -> 100, 50, 25, 20, 10, 5, 4, 2, 1\n",
    "#   69 -> 69, 23, 3, 1\n",
    "#   14.5 -> should be rejected (not raise exception)\n",
    "#   a -> should be rejected (not raise exception)\n",
    "#   0 -> should be rejected (not raise exception)\n"
   ]
  },
  {
   "cell_type": "code",
   "execution_count": null,
   "metadata": {},
   "outputs": [],
   "source": [
    "# test the code here if necessary"
   ]
  },
  {
   "cell_type": "markdown",
   "metadata": {},
   "source": [
    "---"
   ]
  },
  {
   "cell_type": "markdown",
   "metadata": {},
   "source": [
    "### Peer Assessment Activity (60 minutes)"
   ]
  },
  {
   "cell_type": "markdown",
   "metadata": {},
   "source": [
    "In order to carry out the peer assessment portion of this lab, you are going to examine submissions which other students made for `exam3`.  These are anonymized by random numbers, and each team will receive a different set of submissions to assess.\n",
    "\n",
    "Enter the four numbers given you by your TA here: "
   ]
  },
  {
   "cell_type": "code",
   "execution_count": 25,
   "metadata": {},
   "outputs": [
    {
     "name": "stdout",
     "output_type": "stream",
     "text": [
      "[5430, 5258, 7771, 7849]\n"
     ]
    }
   ],
   "source": [
    "import numpy as np\n",
    "test_cases = []\n",
    "test_cases.append( np.random.choice( range( 5050,5710 ) ) )\n",
    "test_cases.append( np.random.choice( range( 5050,5710 ) ) )\n",
    "test_cases.append( np.random.choice( range( 7575,8163 ) ) )\n",
    "test_cases.append( np.random.choice( range( 7575,8163 ) ) )\n",
    "print( test_cases )"
   ]
  },
  {
   "cell_type": "markdown",
   "metadata": {},
   "source": [
    "The next cell will fetch your peer grading examples.  (Please take note of the `try`/`except` blocks.)"
   ]
  },
  {
   "cell_type": "code",
   "execution_count": 26,
   "metadata": {},
   "outputs": [],
   "source": [
    "# retrieve peer submissions via randomized code\n",
    "import os, shutil\n",
    "for test_case in test_cases:\n",
    "    try:\n",
    "        filepath = os.path.join( '/class/cs101/data/hashes','%i.py'%test_case )\n",
    "        shutil.copy2( filepath, '.' )\n",
    "    except FileNotFoundError:\n",
    "        print( 'Please try again.  I was unable to locate %s.py; do you have the correct number?'%test_case )\n",
    "        break"
   ]
  },
  {
   "cell_type": "markdown",
   "metadata": {},
   "source": [
    "You have now received four peer submissions in your `lab09` directory.  Your task is to assess these codes, critique them for correctness and style, and record that critique below.\n",
    "\n",
    "Examine the file in another window (either on the command line or in a text editor).  You can also run the codes on the command line using `python XXX.py`, where `XXX` is the number.\n",
    "\n",
    "Double-click a cell below to edit it.  In each cell, enter the number of the code you are assessing.  Then answer the questions as thoroughly as you can.  You have ten minutes available to assess each code---get as much done as you can in that time.  Then you can work in your groups (or discuss, as your TA decides) for five minutes."
   ]
  },
  {
   "cell_type": "markdown",
   "metadata": {},
   "source": [
    "### `exam3_linspace`\n",
    "\n",
    "We wish to generate $n$ equally-spaced $x$ coordinates in $[a,b]$.  In this figure, these correspond to the vertical dividing lines between segments.\n",
    "\n",
    "![](repo:img/exam3-linspace.png)\n",
    "\n",
    "**Compose a function `linspace( a,b,n )` which accepts a left-hand bound `a`, a right-hand bound `b` (both `float`s), and a number of intervals `n` (an `int`), and returns a `list` containing the coordinates dividing the space equally.**  `n` should be optional with a default value of `11`.  You may assume that $b > a$.\n",
    "\n",
    "For instance, `linspace( 0,1 )` should return the list:\n",
    "\n",
    "    [ 0.0,0.1,0.2,0.3,0.4,0.5,0.6,0.7,0.8,0.9,1.0 ]\n",
    "\n",
    "while `linspace( 0,10,n=10 )` should return the list:\n",
    "\n",
    "    [ 0.0,1.11111111,2.22222222,3.33333333,4.44444444,5.55555556,6.66666667,7.77777778,8.88888889,10.0 ]\n",
    "\n",
    "Note that both the left- and right-hand bounds are *included*.  You may use a `for` loop or a `while` loop to implement the solution to this question.  You may also assume that $a<b$, so don't worry about testing or swapping those values.  Finally, please note that small numerical errors are permissible, _e.g._, `1.00000004` or similar.\n",
    "\n",
    "A formula for the $i$th element is\n",
    "\n",
    "$$\n",
    "x_{i}\n",
    "=\n",
    "a + i \\frac{(b-a)}{n-1}\n",
    "\\text{.}\n",
    "$$\n",
    "\n",
    "<div class=\"alert alert-danger\">\n",
    "Importing <code>linspace</code> from a library will not work.  Work with lists here, not NumPy arrays.\n",
    "</div>"
   ]
  },
  {
   "cell_type": "markdown",
   "metadata": {},
   "source": [
    "### Peer Code Assessment #1:  `exam3_linspace`\n",
    "\n",
    "(Double-click on the text to edit it.)\n",
    "\n",
    "- Which code number are you assessing?  7771\n",
    "\n",
    "#### Correctness\n",
    "\n",
    "- Does this code define a function `linspace`? Yes\n",
    "\n",
    "- Does the function `linspace` return the proper type? Linspace correclty returns a list. \n",
    "\n",
    "- Is the approach generally valid? Yes, the general approach is valid. The for loop is implemented and the function returns proper values. (I.e., if one or two things were adjusted, would the code work properly?)\n",
    "\n",
    "- What needs to be corrected?  (You can write code or explanations here.)\n",
    "\n",
    "\n",
    "\n",
    "#### Style\n",
    "\n",
    "- Is the code well-documented? it's well-documented \n",
    "\n",
    "- Are the variable names descriptive? The variables names are straighforward \n",
    "\n",
    "- Are line breaks and formatting conducive to reading and understanding the code? The coad is easy to understand. \n",
    "\n",
    "- Do all parts of the code play a rôle or are some of them unnecessary? all parts of the code play a role"
   ]
  },
  {
   "cell_type": "markdown",
   "metadata": {},
   "source": [
    "### Peer Code Assessment #2:  `exam3_linspace`\n",
    "\n",
    "- Which code number are you assessing?  7849\n",
    "\n",
    "#### Correctness\n",
    "\n",
    "- Does this code define a function `linspace`? Yes, it does\n",
    "\n",
    "- Does the function `linspace` return the proper type? Yes, it returns a list\n",
    "\n",
    "- Is the approach generally valid?  The general approach is valid with the for loop implemented. But more than few things have to be chanegd for the code to work. \n",
    "\n",
    "- What needs to be corrected?  (You can write code or explanations here.)\n",
    "\n",
    "def linspace(a , b , n=11):\n",
    "    list = []\n",
    "    for i in range(n):\n",
    "        x = ((b-a)/ (n-1) * i + a)\n",
    "        list.append(x)\n",
    "    return list\n",
    "    \n",
    "#### Style\n",
    "\n",
    "- Is the code well-documented? No, there are many unncessary lines. \n",
    "\n",
    "- Are the variable names descriptive? Yes, variable names are descriptive\n",
    "\n",
    "- Are line breaks and formatting conducive to reading and understanding the code? Yes\n",
    "\n",
    "- Do all parts of the code play a rôle or are some of them unnecessary? Many of the lines were unncessary: everything before the fore loop except lost ] [] was unncesseary. Defining x was unnecessary too."
   ]
  },
  {
   "cell_type": "markdown",
   "metadata": {},
   "source": [
    "###   `exam3_dict_str_parse`\n",
    "\n",
    "Given a string, we wish to count the frequency of each letter in it using a dictionary.\n",
    "\n",
    "**Compose a function `lettercount( text )` which accepts a `str` named `text` of a sample text and returns a `dict` with keys `'A'`, `'B'`, ..., `'Z'` which correspond to values indicating the number of times each letter occurs in `text`.**\n",
    "\n",
    "For instance, given the string:\n",
    "\n",
    "    text0 = \"As kingfishers catch fire, dragonflies draw flame\"\n",
    "\n",
    "`lettercount( text0 )` should return the dictionary\n",
    "\n",
    "    { 'A': 5, 'B': 0, 'C': 2, 'D': 2, 'E': 4,\n",
    "      'F': 4, 'G': 2, 'H': 2, 'I': 4, 'J': 0,\n",
    "      'K': 1, 'L': 2, 'M': 1, 'N': 2, 'O': 1,\n",
    "      'P': 0, 'Q': 0, 'R': 4, 'S': 4, 'T': 1,\n",
    "      'U': 0, 'V': 0, 'W': 1, 'X': 0, 'Y': 0,\n",
    "      'Z': 0 }\n"
   ]
  },
  {
   "cell_type": "markdown",
   "metadata": {},
   "source": [
    "### Peer Code Assessment #3:  `exam3_dict_str_parse`\n",
    "\n",
    "- Which code number are you assessing?  5430\n",
    "\n",
    "#### Correctness\n",
    "\n",
    "Write a program which implements a loop evolving pentadecathlon for thirty time steps. You should implement a list of ndarrays named pd_list, each containing a single generation of pentadecathlon's evolution.\n",
    "\n",
    "\n",
    "- Does this code implement a function `lettercount` correctly? No, they did not. The code does not work. \n",
    "\n",
    "- Is the approach generally valid?  (I.e., if one or two things were adjusted, would the code work properly?) No. the code is not even finished. \n",
    "\n",
    "- What needs to be corrected?  (You can write code or explanations here.)\n",
    "The for loop has to be implemented. There needs to be return statement at the end. \n",
    "\n",
    "\n",
    "\n",
    "#### Style\n",
    "\n",
    "- Is the code well-documented? No. \n",
    "\n",
    "- Are the variable names descriptive? No\n",
    "\n",
    "- Are line breaks and formatting conducive to reading and understanding the code? Yes\n",
    "\n",
    "- Do all parts of the code play a rôle or are some of them unnecessary? The last line is incomplete because there is no return statement. "
   ]
  },
  {
   "cell_type": "markdown",
   "metadata": {},
   "source": [
    "### Peer Code Assessment #4:  `exam3_dict_str_parse`\n",
    "\n",
    "- Which code number are you assessing?  5258\n",
    "\n",
    "#### Correctness\n",
    "\n",
    "Write a program which implements a loop evolving pentadecathlon for thirty time steps. You should implement a list of ndarrays named pd_list, each containing a single generation of pentadecathlon's evolution.\n",
    "\n",
    "\n",
    "- Does this code implement a function `lettercount` correctly? No, the function does nto work. \n",
    "\n",
    "- Is the approach generally valid?  The general approach is valid. (I.e., if one or two things were adjusted, would the code work properly?)\n",
    "\n",
    "- What needs to be corrected?  (You can write code or explanations here.)\n",
    "He/she needs to append a new letter and count to the dictionary instead of returning the empty dictionary.  \n",
    "\n",
    "\n",
    "#### Style\n",
    "\n",
    "- Is the code well-documented? yes. \n",
    "\n",
    "- Are the variable names descriptive? yes\n",
    "\n",
    "- Are line breaks and formatting conducive to reading and understanding the code? yes\n",
    "\n",
    "- Do all parts of the code play a rôle or are some of them unnecessary? no some lines such as key=letter are unncessary "
   ]
  },
  {
   "cell_type": "code",
   "execution_count": null,
   "metadata": {},
   "outputs": [],
   "source": []
  }
 ],
 "metadata": {
  "anaconda-cloud": {},
  "kernelspec": {
   "display_name": "Python 3",
   "language": "python",
   "name": "python3"
  },
  "language_info": {
   "codemirror_mode": {
    "name": "ipython",
    "version": 3
   },
   "file_extension": ".py",
   "mimetype": "text/x-python",
   "name": "python",
   "nbconvert_exporter": "python",
   "pygments_lexer": "ipython3",
   "version": "3.6.2"
  }
 },
 "nbformat": 4,
 "nbformat_minor": 1
}
